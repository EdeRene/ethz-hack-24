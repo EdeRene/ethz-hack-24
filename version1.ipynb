{
 "cells": [
  {
   "cell_type": "code",
   "execution_count": 1,
   "metadata": {},
   "outputs": [],
   "source": [
    "import pytket as tk\n",
    "from pytket import passes as tkp\n",
    "from pytket import circuit as tkc\n",
    "\n",
    "from pytket.circuit.display import render_circuit_jupyter as print_circ\n",
    "\n",
    "import numpy as np"
   ]
  },
  {
   "cell_type": "code",
   "execution_count": 27,
   "metadata": {},
   "outputs": [],
   "source": [
    "def h_gadgetisation(q1, q2):\n",
    "        c1 = tk.Circuit(2)\n",
    "        c1.S(q1).S(q2).CX(q1,q2)\n",
    "        c2= tk.Circuit(2).S(q2)\n",
    "        c2 =c2.dagger()\n",
    "\n",
    "        return c1.add_circuit(c2,[0,1]).CX(1,0).CX(0,1)\n"
   ]
  },
  {
   "cell_type": "code",
   "execution_count": 28,
   "metadata": {},
   "outputs": [
    {
     "ename": "RuntimeError",
     "evalue": "Circuit does not contain unit with id: q[2]",
     "output_type": "error",
     "traceback": [
      "\u001b[0;31m---------------------------------------------------------------------------\u001b[0m",
      "\u001b[0;31mRuntimeError\u001b[0m                              Traceback (most recent call last)",
      "Cell \u001b[0;32mIn[28], line 4\u001b[0m\n\u001b[1;32m      2\u001b[0m q1 \u001b[38;5;241m=\u001b[39m \u001b[38;5;241m2\u001b[39m\n\u001b[1;32m      3\u001b[0m q2 \u001b[38;5;241m=\u001b[39m \u001b[38;5;241m3\u001b[39m\n\u001b[0;32m----> 4\u001b[0m print_circ(c3\u001b[38;5;241m.\u001b[39madd_circuit(\u001b[43mh_gadgetisation\u001b[49m\u001b[43m(\u001b[49m\u001b[43mq1\u001b[49m\u001b[43m,\u001b[49m\u001b[43mq2\u001b[49m\u001b[43m)\u001b[49m,[q1,q2]))\n",
      "Cell \u001b[0;32mIn[27], line 3\u001b[0m, in \u001b[0;36mh_gadgetisation\u001b[0;34m(q1, q2)\u001b[0m\n\u001b[1;32m      1\u001b[0m \u001b[38;5;28;01mdef\u001b[39;00m \u001b[38;5;21mh_gadgetisation\u001b[39m(q1, q2):\n\u001b[1;32m      2\u001b[0m         c1 \u001b[38;5;241m=\u001b[39m tk\u001b[38;5;241m.\u001b[39mCircuit(\u001b[38;5;241m2\u001b[39m)\n\u001b[0;32m----> 3\u001b[0m         \u001b[43mc1\u001b[49m\u001b[38;5;241;43m.\u001b[39;49m\u001b[43mS\u001b[49m\u001b[43m(\u001b[49m\u001b[43mq1\u001b[49m\u001b[43m)\u001b[49m\u001b[38;5;241m.\u001b[39mS(q2)\u001b[38;5;241m.\u001b[39mCX(q1,q2)\n\u001b[1;32m      4\u001b[0m         c2\u001b[38;5;241m=\u001b[39m tk\u001b[38;5;241m.\u001b[39mCircuit(\u001b[38;5;241m2\u001b[39m)\u001b[38;5;241m.\u001b[39mS(q2)\n\u001b[1;32m      5\u001b[0m         c2 \u001b[38;5;241m=\u001b[39mc2\u001b[38;5;241m.\u001b[39mdagger()\n",
      "\u001b[0;31mRuntimeError\u001b[0m: Circuit does not contain unit with id: q[2]"
     ]
    }
   ],
   "source": [
    "c3 = tk.Circuit(4)\n",
    "q1 = 2\n",
    "q2 = 3\n",
    "print_circ(c3.add_circuit(h_gadgetisation(q1,q2),[q1,q2]))"
   ]
  },
  {
   "cell_type": "code",
   "execution_count": 20,
   "metadata": {},
   "outputs": [
    {
     "data": {
      "text/html": [
       "\n",
       "\n",
       "\n",
       "\n",
       "\n",
       "\n",
       "<div style=\"resize: vertical; overflow: auto; height: 400px; display: block\">\n",
       "    <iframe srcdoc=\"\n",
       "&lt;!DOCTYPE html&gt;\n",
       "&lt;html lang=&#34;en&#34;&gt;\n",
       "&lt;head&gt;\n",
       "    &lt;meta charset=&#34;UTF-8&#34;&gt;\n",
       "    &lt;!-- Download Vue 3--&gt;\n",
       "&lt;script type=&#34;application/javascript&#34; src=&#34;https://cdn.jsdelivr.net/npm/vue@3&#34;&gt;&lt;/script&gt;\n",
       "&lt;!-- Download Circuit Renderer with styles --&gt;\n",
       "&lt;script type=&#34;application/javascript&#34; src=&#34;https://unpkg.com/pytket-circuit-renderer@0.7/dist/pytket-circuit-renderer.umd.js&#34;&gt;&lt;/script&gt;\n",
       "&lt;link rel=&#34;stylesheet&#34; href=&#34;https://unpkg.com/pytket-circuit-renderer@0.7/dist/pytket-circuit-renderer.css&#34;&gt;\n",
       "&lt;/head&gt;\n",
       "&lt;body&gt;\n",
       "\n",
       "\n",
       "\n",
       "    &lt;div id=&#34;circuit-display-vue-container-5464df4d-32dc-4e44-ba6e-457e46dd3e5a&#34; class=&#34;pytket-circuit-display-container&#34;&gt;\n",
       "        &lt;div style=&#34;display: none&#34;&gt;\n",
       "            &lt;div id=&#34;circuit-json-to-display&#34;&gt;{&#34;bits&#34;: [], &#34;commands&#34;: [{&#34;args&#34;: [[&#34;q&#34;, [0]]], &#34;op&#34;: {&#34;type&#34;: &#34;S&#34;}}, {&#34;args&#34;: [[&#34;q&#34;, [1]]], &#34;op&#34;: {&#34;type&#34;: &#34;S&#34;}}, {&#34;args&#34;: [[&#34;q&#34;, [0]], [&#34;q&#34;, [1]]], &#34;op&#34;: {&#34;type&#34;: &#34;CX&#34;}}, {&#34;args&#34;: [[&#34;q&#34;, [1]]], &#34;op&#34;: {&#34;type&#34;: &#34;Sdg&#34;}}, {&#34;args&#34;: [[&#34;q&#34;, [1]], [&#34;q&#34;, [0]]], &#34;op&#34;: {&#34;type&#34;: &#34;CX&#34;}}, {&#34;args&#34;: [[&#34;q&#34;, [0]], [&#34;q&#34;, [1]]], &#34;op&#34;: {&#34;type&#34;: &#34;CX&#34;}}], &#34;created_qubits&#34;: [], &#34;discarded_qubits&#34;: [], &#34;implicit_permutation&#34;: [[[&#34;q&#34;, [0]], [&#34;q&#34;, [0]]], [[&#34;q&#34;, [1]], [&#34;q&#34;, [1]]]], &#34;phase&#34;: &#34;0.0&#34;, &#34;qubits&#34;: [[&#34;q&#34;, [0]], [&#34;q&#34;, [1]]]}&lt;/div&gt;\n",
       "        &lt;/div&gt;\n",
       "        &lt;circuit-display-container\n",
       "                :circuit-element-str=&#34;&#39;#circuit-json-to-display&#39;&#34;\n",
       "                :init-render-options=&#34;initRenderOptions&#34;\n",
       "        &gt;&lt;/circuit-display-container&gt;\n",
       "    &lt;/div&gt;\n",
       "    &lt;script type=&#34;application/javascript&#34;&gt;\n",
       "      const circuitRendererUid = &#34;5464df4d-32dc-4e44-ba6e-457e46dd3e5a&#34;;\n",
       "      const displayOptions = JSON.parse(&#39;{}&#39;);\n",
       "\n",
       "      // Script to initialise the circuit renderer app\n",
       "\n",
       "const { createApp } = Vue;\n",
       "const circuitDisplayContainer = window[&#34;pytket-circuit-renderer&#34;].default;\n",
       "// Init variables to be shared between circuit display instances\n",
       "if (typeof window.pytketCircuitDisplays === &#34;undefined&#34;) {\n",
       "    window.pytketCircuitDisplays = {};\n",
       "}\n",
       "// Create the root Vue component\n",
       "const app = createApp({\n",
       "    delimiters: [&#39;[[#&#39;, &#39;#]]&#39;],\n",
       "    components: { circuitDisplayContainer },\n",
       "    data () {\n",
       "      return {\n",
       "        initRenderOptions: displayOptions,\n",
       "      }\n",
       "    }\n",
       "})\n",
       "app.config.unwrapInjectedRef = true;\n",
       "app.mount(&#34;#circuit-display-vue-container-&#34;+circuitRendererUid);\n",
       "window.pytketCircuitDisplays[circuitRendererUid] = app;\n",
       "    &lt;/script&gt;\n",
       "\n",
       "\n",
       "\n",
       "&lt;/body&gt;\n",
       "&lt;/html&gt;\n",
       "\"\n",
       "            width=\"100%\" height=\"100%\"\n",
       "            style=\"border: none; outline: none; overflow: auto\"></iframe>\n",
       "</div>\n",
       "\n"
      ],
      "text/plain": [
       "<IPython.core.display.HTML object>"
      ]
     },
     "metadata": {},
     "output_type": "display_data"
    }
   ],
   "source": [
    "c1 = tk.Circuit(2)\n",
    "c1.S(0).S(1).CX(0,1)\n",
    "c2= tk.Circuit(2).S(1)\n",
    "c2 =c2.dagger()\n",
    "print_circ(c1.add_circuit(c2,[0,1]).CX(1,0).CX(0,1))"
   ]
  },
  {
   "cell_type": "code",
   "execution_count": null,
   "metadata": {},
   "outputs": [],
   "source": []
  }
 ],
 "metadata": {
  "kernelspec": {
   "display_name": ".venv",
   "language": "python",
   "name": "python3"
  },
  "language_info": {
   "codemirror_mode": {
    "name": "ipython",
    "version": 3
   },
   "file_extension": ".py",
   "mimetype": "text/x-python",
   "name": "python",
   "nbconvert_exporter": "python",
   "pygments_lexer": "ipython3",
   "version": "3.12.3"
  }
 },
 "nbformat": 4,
 "nbformat_minor": 2
}
